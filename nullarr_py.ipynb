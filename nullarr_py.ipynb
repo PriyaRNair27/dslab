{
  "nbformat": 4,
  "nbformat_minor": 0,
  "metadata": {
    "colab": {
      "name": "nullarr.py",
      "provenance": [],
      "authorship_tag": "ABX9TyMs+pEZBfWhT57F0BI4rwHW",
      "include_colab_link": true
    },
    "kernelspec": {
      "name": "python3",
      "display_name": "Python 3"
    },
    "language_info": {
      "name": "python"
    }
  },
  "cells": [
    {
      "cell_type": "markdown",
      "metadata": {
        "id": "view-in-github",
        "colab_type": "text"
      },
      "source": [
        "<a href=\"https://colab.research.google.com/github/PriyaRNair27/dslab/blob/main/nullarr_py.ipynb\" target=\"_parent\"><img src=\"https://colab.research.google.com/assets/colab-badge.svg\" alt=\"Open In Colab\"/></a>"
      ]
    },
    {
      "cell_type": "code",
      "metadata": {
        "colab": {
          "base_uri": "https://localhost:8080/"
        },
        "id": "i5-Ncq7Bb7eL",
        "outputId": "ca5d5189-32e8-4ba3-81ef-713035af8810"
      },
      "source": [
        "import numpy as np\n",
        "null_arr=np.zeros(10)\n",
        "print(null_arr)\n",
        "null_arr[5]=10\n",
        "print(null_arr)"
      ],
      "execution_count": 10,
      "outputs": [
        {
          "output_type": "stream",
          "name": "stdout",
          "text": [
            "[0. 0. 0. 0. 0. 0. 0. 0. 0. 0.]\n",
            "[ 0.  0.  0.  0.  0. 10.  0.  0.  0.  0.]\n"
          ]
        }
      ]
    }
  ]
}